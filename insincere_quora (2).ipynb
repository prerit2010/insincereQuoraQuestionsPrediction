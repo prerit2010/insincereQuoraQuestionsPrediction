{
  "nbformat": 4,
  "nbformat_minor": 0,
  "metadata": {
    "colab": {
      "name": "insincere_quora.ipynb",
      "provenance": [],
      "collapsed_sections": []
    },
    "kernelspec": {
      "name": "python3",
      "display_name": "Python 3"
    },
    "accelerator": "GPU"
  },
  "cells": [
    {
      "cell_type": "code",
      "metadata": {
        "id": "6MOoJkiNcxr2",
        "colab_type": "code",
        "colab": {
          "base_uri": "https://localhost:8080/",
          "height": 72
        },
        "outputId": "192fdfbd-d330-4d05-cb6a-689fb73c411a"
      },
      "source": [
        "import pandas as pd\n",
        "import numpy as np\n",
        "from sklearn.model_selection import train_test_split\n",
        "from sklearn import metrics\n",
        "import re\n",
        "import seaborn as sns\n",
        "import matplotlib.pyplot as plt"
      ],
      "execution_count": 1,
      "outputs": [
        {
          "output_type": "stream",
          "text": [
            "/usr/local/lib/python3.6/dist-packages/statsmodels/tools/_testing.py:19: FutureWarning: pandas.util.testing is deprecated. Use the functions in the public API at pandas.testing instead.\n",
            "  import pandas.util.testing as tm\n"
          ],
          "name": "stderr"
        }
      ]
    },
    {
      "cell_type": "code",
      "metadata": {
        "id": "1wPSy2Y4ftLX",
        "colab_type": "code",
        "colab": {
          "base_uri": "https://localhost:8080/",
          "height": 35
        },
        "outputId": "182a21d8-1a99-4d9b-b33d-c9070666a404"
      },
      "source": [
        "from keras.preprocessing.text import Tokenizer\n",
        "from keras.preprocessing.sequence import pad_sequences\n",
        "from keras.layers import Dense, Input, LSTM, Embedding, Dropout, Activation, GRU, Conv1D\n",
        "from keras.layers import Bidirectional, GlobalMaxPool1D\n",
        "from keras.models import Model\n",
        "from keras import initializers, regularizers, constraints, optimizers, layers\n",
        "from keras import Sequential\n",
        "from keras import Input as Kinput"
      ],
      "execution_count": 2,
      "outputs": [
        {
          "output_type": "stream",
          "text": [
            "Using TensorFlow backend.\n"
          ],
          "name": "stderr"
        }
      ]
    },
    {
      "cell_type": "code",
      "metadata": {
        "id": "OBnBxrhVxqpU",
        "colab_type": "code",
        "colab": {
          "base_uri": "https://localhost:8080/",
          "height": 503
        },
        "outputId": "34bc979e-c6a5-440c-e8ea-cb84b6c17376"
      },
      "source": [
        "import tensorflow as tf\n",
        "from tensorflow.python.client import device_lib\n",
        "device_lib.list_local_devices(), tf.test.gpu_device_name()"
      ],
      "execution_count": 3,
      "outputs": [
        {
          "output_type": "execute_result",
          "data": {
            "text/plain": [
              "([name: \"/device:CPU:0\"\n",
              "  device_type: \"CPU\"\n",
              "  memory_limit: 268435456\n",
              "  locality {\n",
              "  }\n",
              "  incarnation: 10190794664373272416, name: \"/device:XLA_CPU:0\"\n",
              "  device_type: \"XLA_CPU\"\n",
              "  memory_limit: 17179869184\n",
              "  locality {\n",
              "  }\n",
              "  incarnation: 10531552123575437519\n",
              "  physical_device_desc: \"device: XLA_CPU device\", name: \"/device:XLA_GPU:0\"\n",
              "  device_type: \"XLA_GPU\"\n",
              "  memory_limit: 17179869184\n",
              "  locality {\n",
              "  }\n",
              "  incarnation: 7297575573593415528\n",
              "  physical_device_desc: \"device: XLA_GPU device\", name: \"/device:GPU:0\"\n",
              "  device_type: \"GPU\"\n",
              "  memory_limit: 11150726272\n",
              "  locality {\n",
              "    bus_id: 1\n",
              "    links {\n",
              "    }\n",
              "  }\n",
              "  incarnation: 3751403171817362738\n",
              "  physical_device_desc: \"device: 0, name: Tesla K80, pci bus id: 0000:00:04.0, compute capability: 3.7\"],\n",
              " '/device:GPU:0')"
            ]
          },
          "metadata": {
            "tags": []
          },
          "execution_count": 3
        }
      ]
    },
    {
      "cell_type": "code",
      "metadata": {
        "id": "z09GlguU_7mg",
        "colab_type": "code",
        "colab": {}
      },
      "source": [
        "pd.options.display.max_colwidth = 200"
      ],
      "execution_count": 4,
      "outputs": []
    },
    {
      "cell_type": "code",
      "metadata": {
        "id": "GyJ2_p3YeZw4",
        "colab_type": "code",
        "colab": {}
      },
      "source": [
        "df = pd.read_csv(\"/content/drive/My Drive/data/insincereQuora/train.csv\")"
      ],
      "execution_count": 5,
      "outputs": []
    },
    {
      "cell_type": "code",
      "metadata": {
        "id": "2-_0JdHWeou6",
        "colab_type": "code",
        "colab": {
          "base_uri": "https://localhost:8080/",
          "height": 35
        },
        "outputId": "7107d2d5-9277-4729-e67c-8b58095120e0"
      },
      "source": [
        "df.shape"
      ],
      "execution_count": 6,
      "outputs": [
        {
          "output_type": "execute_result",
          "data": {
            "text/plain": [
              "(1306122, 3)"
            ]
          },
          "metadata": {
            "tags": []
          },
          "execution_count": 6
        }
      ]
    },
    {
      "cell_type": "code",
      "metadata": {
        "id": "9OP-faZKeskm",
        "colab_type": "code",
        "colab": {
          "base_uri": "https://localhost:8080/",
          "height": 69
        },
        "outputId": "ebc2acd8-d3c0-472d-a00c-2189c29061ae"
      },
      "source": [
        "df['target'].value_counts()"
      ],
      "execution_count": 7,
      "outputs": [
        {
          "output_type": "execute_result",
          "data": {
            "text/plain": [
              "0    1225312\n",
              "1      80810\n",
              "Name: target, dtype: int64"
            ]
          },
          "metadata": {
            "tags": []
          },
          "execution_count": 7
        }
      ]
    },
    {
      "cell_type": "code",
      "metadata": {
        "id": "8pKZ75DaM336",
        "colab_type": "code",
        "colab": {
          "base_uri": "https://localhost:8080/",
          "height": 307
        },
        "outputId": "2587b88c-275f-42e2-c4c9-77f58ba78d68"
      },
      "source": [
        "sns.countplot(x='target', data=df)"
      ],
      "execution_count": 8,
      "outputs": [
        {
          "output_type": "execute_result",
          "data": {
            "text/plain": [
              "<matplotlib.axes._subplots.AxesSubplot at 0x7fb0fb592668>"
            ]
          },
          "metadata": {
            "tags": []
          },
          "execution_count": 8
        },
        {
          "output_type": "display_data",
          "data": {
            "image/png": "[encoded data removed]",
            "text/plain": [
              "<Figure size 432x288 with 1 Axes>"
            ]
          },
          "metadata": {
            "tags": [],
            "needs_background": "light"
          }
        }
      ]
    },
    {
      "cell_type": "code",
      "metadata": {
        "id": "4N1xMxzX_jZZ",
        "colab_type": "code",
        "colab": {
          "base_uri": "https://localhost:8080/",
          "height": 245
        },
        "outputId": "b731424f-fa61-451c-ce87-647a3c277562"
      },
      "source": [
        "df[df['target'] == 1]['question_text']"
      ],
      "execution_count": null,
      "outputs": [
        {
          "output_type": "execute_result",
          "data": {
            "text/plain": [
              "22                                                                                                                                             Has the United States become the largest dictatorship in the world?\n",
              "30                                                                                                                          Which babies are more sweeter to their parents? Dark skin babies or light skin babies?\n",
              "110                                                                                                         If blacks support school choice and mandatory sentencing for criminals why don't they vote Republican?\n",
              "114                                                                      I am gay boy and I love my cousin (boy). He is sexy, but I dont know what to do. He is hot, and I want to see his di**. What should I do?\n",
              "115                                                                                                                                                                           Which races have the smallest penis?\n",
              "                                                                                                            ...                                                                                                   \n",
              "1306093                                                                                                                                                      How is it to have intimate relation with your cousin?\n",
              "1306094    Why is it when singers have lyrics about voices in their head, religious people say they hear god and anyone stating they are being targeted by voice to brain technology? Are they called delusiona...\n",
              "1306099                                                                                                                                                                          Do pakis smell of curry and shit?\n",
              "1306103    Isn't Trump right after all? Why should the USA be benevolent towards it's neighbor Mexico, and not put America first, when Russia is invading Ukraine? Even India imposed a blockade over Nepal aft...\n",
              "1306112                                                                                                                                                                        Are you ashamed of being an Indian?\n",
              "Name: question_text, Length: 80810, dtype: object"
            ]
          },
          "metadata": {
            "tags": []
          },
          "execution_count": 26
        }
      ]
    },
    {
      "cell_type": "code",
      "metadata": {
        "id": "BI9KnhrEC-ub",
        "colab_type": "code",
        "colab": {
          "base_uri": "https://localhost:8080/",
          "height": 225
        },
        "outputId": "c6acb8e3-053b-4694-f3b5-f008f5b46a48"
      },
      "source": [
        "df[df['target'] == 0]['question_text']"
      ],
      "execution_count": null,
      "outputs": [
        {
          "output_type": "execute_result",
          "data": {
            "text/plain": [
              "0                               How did Quebec nationalists see their province as a nation in the 1960s?\n",
              "1                      Do you have an adopted dog, how would you encourage people to adopt and not shop?\n",
              "2                                    Why does velocity affect time? Does velocity affect space geometry?\n",
              "3                                              How did Otto von Guericke used the Magdeburg hemispheres?\n",
              "4                          Can I convert montra helicon D to a mountain bike by just changing the tyres?\n",
              "                                                       ...                                              \n",
              "1306117    What other technical skills do you need as a computer science undergrad other than c and c++?\n",
              "1306118      Does MS in ECE have good job prospects in USA or like India there are more IT jobs present?\n",
              "1306119                                                                        Is foam insulation toxic?\n",
              "1306120                          How can one start a research project based on biochemistry at UG level?\n",
              "1306121                                             Who wins in a battle between a Wolverine and a Puma?\n",
              "Name: question_text, Length: 1225312, dtype: object"
            ]
          },
          "metadata": {
            "tags": []
          },
          "execution_count": 36
        }
      ]
    },
    {
      "cell_type": "code",
      "metadata": {
        "id": "-lHqHTdBAugm",
        "colab_type": "code",
        "colab": {}
      },
      "source": [
        "def count_stops(text):\n",
        "  count = 0\n",
        "  for letter in text:\n",
        "    if letter in [',', '.', '?']:\n",
        "      count+=1\n",
        "  return count"
      ],
      "execution_count": null,
      "outputs": []
    },
    {
      "cell_type": "code",
      "metadata": {
        "id": "liUdGhArAgeV",
        "colab_type": "code",
        "colab": {}
      },
      "source": [
        "df['num_stops_comma_qmark'] = df['question_text'].apply(count_stops)"
      ],
      "execution_count": null,
      "outputs": []
    },
    {
      "cell_type": "code",
      "metadata": {
        "id": "7G6OJEonBIDw",
        "colab_type": "code",
        "colab": {
          "base_uri": "https://localhost:8080/",
          "height": 280
        },
        "outputId": "58fe1524-3c3c-416e-eaa4-4bcd113aeb3b"
      },
      "source": [
        "plt.figure(figsize=(15,4))\n",
        "sns.distplot(df['num_stops_comma_qmark'][df['target'] == 0],  color='green')\n",
        "sns.distplot(df['num_stops_comma_qmark'][df['target'] == 1],  color='red'); "
      ],
      "execution_count": null,
      "outputs": [
        {
          "output_type": "display_data",
          "data": {
            "image/png": "[encoded data removed]",
            "text/plain": [
              "<Figure size 1080x288 with 1 Axes>"
            ]
          },
          "metadata": {
            "tags": [],
            "needs_background": "light"
          }
        }
      ]
    },
    {
      "cell_type": "code",
      "metadata": {
        "id": "IhqfG0GI9k2d",
        "colab_type": "code",
        "colab": {}
      },
      "source": [
        "df['question_length'] = df['question_text'].str.len()"
      ],
      "execution_count": null,
      "outputs": []
    },
    {
      "cell_type": "code",
      "metadata": {
        "id": "NPpbdYeb-GFs",
        "colab_type": "code",
        "colab": {
          "base_uri": "https://localhost:8080/",
          "height": 265
        },
        "outputId": "f03b4b8f-f886-4e76-ef43-1b653831ec6b"
      },
      "source": [
        "plt.figure(figsize=(10,4))\n",
        "sns.kdeplot(df['question_length'][df['target'] == 0], shade=1, color='green')\n",
        "sns.kdeplot(df['question_length'][df['target'] == 1], shade=1, color='red'); "
      ],
      "execution_count": null,
      "outputs": [
        {
          "output_type": "display_data",
          "data": {
            "image/png": "[encoded data removed]",
            "text/plain": [
              "<Figure size 720x288 with 1 Axes>"
            ]
          },
          "metadata": {
            "tags": [],
            "needs_background": "light"
          }
        }
      ]
    },
    {
      "cell_type": "code",
      "metadata": {
        "id": "a9X7b-eauA8Y",
        "colab_type": "code",
        "colab": {}
      },
      "source": [
        "def text_to_word_list(text):\n",
        "    ''' Pre process and convert texts to a list of words '''\n",
        "    text = str(text)\n",
        "    text = text.lower()\n",
        "\n",
        "    # Clean the text\n",
        "    text = re.sub(r\"[^A-Za-z0-9^,!.\\/'+-=]\", \" \", text)\n",
        "    text = re.sub(r\"what's\", \"what is \", text)\n",
        "    text = re.sub(r\"\\'s\", \" \", text)\n",
        "    text = re.sub(r\"\\'ve\", \" have \", text)\n",
        "    text = re.sub(r\"can't\", \"cannot \", text)\n",
        "    text = re.sub(r\"n't\", \" not \", text)\n",
        "    text = re.sub(r\"i'm\", \"i am \", text)\n",
        "    text = re.sub(r\"\\'re\", \" are \", text)\n",
        "    text = re.sub(r\"\\'d\", \" would \", text)\n",
        "    text = re.sub(r\"\\'ll\", \" will \", text)\n",
        "    text = re.sub(r\",\", \" \", text)\n",
        "    text = re.sub(r\"\\.\", \" \", text)\n",
        "    text = re.sub(r\"!\", \" ! \", text)\n",
        "    text = re.sub(r\"\\/\", \" \", text)\n",
        "    text = re.sub(r\"\\^\", \" ^ \", text)\n",
        "    text = re.sub(r\"\\+\", \" + \", text)\n",
        "    text = re.sub(r\"\\-\", \" - \", text)\n",
        "    text = re.sub(r\"\\=\", \" = \", text)\n",
        "    text = re.sub(r\"'\", \" \", text)\n",
        "    text = re.sub(r\"(\\d+)(k)\", r\"\\g<1>000\", text)\n",
        "    text = re.sub(r\":\", \" : \", text)\n",
        "    text = re.sub(r\" e g \", \" eg \", text)\n",
        "    text = re.sub(r\" b g \", \" bg \", text)\n",
        "    text = re.sub(r\" u s \", \" american \", text)\n",
        "    text = re.sub(r\"\\0s\", \"0\", text)\n",
        "    text = re.sub(r\" 9 11 \", \"911\", text)\n",
        "    text = re.sub(r\"e - mail\", \"email\", text)\n",
        "    text = re.sub(r\"j k\", \"jk\", text)\n",
        "    text = re.sub(r\"\\s{2,}\", \" \", text)\n",
        "\n",
        "    # text = text.split()\n",
        "\n",
        "    return text"
      ],
      "execution_count": null,
      "outputs": []
    },
    {
      "cell_type": "code",
      "metadata": {
        "id": "7mG6S6MOtgXk",
        "colab_type": "code",
        "colab": {}
      },
      "source": [
        "df['question_text'] = df['question_text'].apply(text_to_word_list)"
      ],
      "execution_count": null,
      "outputs": []
    },
    {
      "cell_type": "code",
      "metadata": {
        "id": "49vKE-uI-zWP",
        "colab_type": "code",
        "colab": {}
      },
      "source": [
        "df['num_words'] = df['question_text'].apply(lambda x: len(x.split()))"
      ],
      "execution_count": null,
      "outputs": []
    },
    {
      "cell_type": "code",
      "metadata": {
        "id": "YfoMj_ie_Jj1",
        "colab_type": "code",
        "colab": {
          "base_uri": "https://localhost:8080/",
          "height": 265
        },
        "outputId": "10927e48-3d3b-450d-eab4-e06b90f71122"
      },
      "source": [
        "plt.figure(figsize=(10,4))\n",
        "sns.kdeplot(df['num_words'][df['target'] == 0], shade=1, color='red')\n",
        "sns.kdeplot(df['num_words'][df['target'] == 1], shade=1, color='green'); "
      ],
      "execution_count": null,
      "outputs": [
        {
          "output_type": "display_data",
          "data": {
            "image/png": "[encoded data removed]",
            "text/plain": [
              "<Figure size 720x288 with 1 Axes>"
            ]
          },
          "metadata": {
            "tags": [],
            "needs_background": "light"
          }
        }
      ]
    },
    {
      "cell_type": "code",
      "metadata": {
        "id": "blqassWGeqiP",
        "colab_type": "code",
        "colab": {}
      },
      "source": [
        "df_train, df_test = train_test_split(df, test_size=0.20, random_state=2018)"
      ],
      "execution_count": null,
      "outputs": []
    },
    {
      "cell_type": "code",
      "metadata": {
        "id": "9rbBiryslghe",
        "colab_type": "code",
        "colab": {}
      },
      "source": [
        "# df_train, df_valid = train_test_split(df_train, test_size=0.10, random_state=2018)"
      ],
      "execution_count": null,
      "outputs": []
    },
    {
      "cell_type": "code",
      "metadata": {
        "id": "4A9WtF6ne50V",
        "colab_type": "code",
        "colab": {}
      },
      "source": [
        "max_length = 100\n",
        "embed_size = 300\n",
        "max_vocab_size = 50000"
      ],
      "execution_count": null,
      "outputs": []
    },
    {
      "cell_type": "code",
      "metadata": {
        "id": "-H2qzYCofTUr",
        "colab_type": "code",
        "colab": {}
      },
      "source": [
        "train = df_train[\"question_text\"].fillna(\"_na_\").values\n",
        "test = df_test[\"question_text\"].fillna(\"_na_\").values\n",
        "# valid = df_valid[\"question_text\"].fillna(\"_na_\").values"
      ],
      "execution_count": null,
      "outputs": []
    },
    {
      "cell_type": "code",
      "metadata": {
        "id": "B3FdV6ZGfcKH",
        "colab_type": "code",
        "colab": {}
      },
      "source": [
        "tokenizer = Tokenizer(num_words=max_vocab_size)\n",
        "tokenizer.fit_on_texts(list(train))"
      ],
      "execution_count": null,
      "outputs": []
    },
    {
      "cell_type": "code",
      "metadata": {
        "id": "VuTYRohufoqo",
        "colab_type": "code",
        "colab": {}
      },
      "source": [
        "train_X = tokenizer.texts_to_sequences(train)\n",
        "test_X = tokenizer.texts_to_sequences(test)\n",
        "# valid_X = tokenizer.texts_to_sequences(valid)\n",
        "\n",
        "## Pad the sentences \n",
        "train_X = pad_sequences(train_X, maxlen=max_length)\n",
        "test_X = pad_sequences(test_X, maxlen=max_length)\n",
        "# valid_X = pad_sequences(valid_X, maxlen=max_length)\n",
        "\n",
        "## Get the target values\n",
        "train_y = df_train['target'].values\n",
        "test_y = df_test['target'].values\n",
        "# valid_y = df_valid['target'].values"
      ],
      "execution_count": null,
      "outputs": []
    },
    {
      "cell_type": "code",
      "metadata": {
        "id": "tnjm7npngYk9",
        "colab_type": "code",
        "colab": {
          "base_uri": "https://localhost:8080/",
          "height": 416
        },
        "outputId": "49c3aee0-b305-41d5-e7c7-8f4ad93b3c43"
      },
      "source": [
        "inp = Input(shape=(max_length,))\n",
        "x = Embedding(max_vocab_size, embed_size)(inp)\n",
        "x = Bidirectional(GRU(64, return_sequences=True))(x)\n",
        "x = GlobalMaxPool1D()(x)\n",
        "x = Dense(16, activation=\"relu\")(x)\n",
        "x = Dropout(0.1)(x)\n",
        "x = Dense(1, activation=\"sigmoid\")(x)\n",
        "model = Model(inputs=inp, outputs=x)\n",
        "model.compile(loss='binary_crossentropy', optimizer='adam', metrics=['accuracy'])\n",
        "print(model.summary())"
      ],
      "execution_count": null,
      "outputs": [
        {
          "output_type": "stream",
          "text": [
            "Model: \"model_1\"\n",
            "_________________________________________________________________\n",
            "Layer (type)                 Output Shape              Param #   \n",
            "=================================================================\n",
            "input_7 (InputLayer)         (None, 100)               0         \n",
            "_________________________________________________________________\n",
            "embedding_3 (Embedding)      (None, 100, 300)          15000000  \n",
            "_________________________________________________________________\n",
            "bidirectional_1 (Bidirection (None, 100, 128)          140160    \n",
            "_________________________________________________________________\n",
            "global_max_pooling1d_3 (Glob (None, 128)               0         \n",
            "_________________________________________________________________\n",
            "dense_5 (Dense)              (None, 16)                2064      \n",
            "_________________________________________________________________\n",
            "dropout_3 (Dropout)          (None, 16)                0         \n",
            "_________________________________________________________________\n",
            "dense_6 (Dense)              (None, 1)                 17        \n",
            "=================================================================\n",
            "Total params: 15,142,241\n",
            "Trainable params: 15,142,241\n",
            "Non-trainable params: 0\n",
            "_________________________________________________________________\n",
            "None\n"
          ],
          "name": "stdout"
        }
      ]
    },
    {
      "cell_type": "code",
      "metadata": {
        "id": "p7ACJLUugFqb",
        "colab_type": "code",
        "colab": {
          "base_uri": "https://localhost:8080/",
          "height": 121
        },
        "outputId": "833e5b50-d564-4cc6-a2d3-e0b346ee2dc1"
      },
      "source": [
        "model.fit(train_X, train_y, batch_size=2048, epochs=2, validation_data=(test_X, test_y))"
      ],
      "execution_count": null,
      "outputs": [
        {
          "output_type": "stream",
          "text": [
            "Train on 1044897 samples, validate on 261225 samples\n",
            "Epoch 1/2\n",
            "1044897/1044897 [==============================] - 1080s 1ms/step - loss: 0.1313 - accuracy: 0.9507 - val_loss: 0.1087 - val_accuracy: 0.9557\n",
            "Epoch 2/2\n",
            "1044897/1044897 [==============================] - 1072s 1ms/step - loss: 0.1067 - accuracy: 0.9573 - val_loss: 0.1073 - val_accuracy: 0.9574\n"
          ],
          "name": "stdout"
        },
        {
          "output_type": "execute_result",
          "data": {
            "text/plain": [
              "<keras.callbacks.callbacks.History at 0x7f0e6b1454e0>"
            ]
          },
          "metadata": {
            "tags": []
          },
          "execution_count": 62
        }
      ]
    },
    {
      "cell_type": "code",
      "metadata": {
        "id": "9Dd-98dph4sP",
        "colab_type": "code",
        "colab": {
          "base_uri": "https://localhost:8080/",
          "height": 52
        },
        "outputId": "59e0706d-225a-4680-fda7-82e711aec8ec"
      },
      "source": [
        "pred_prob = model.predict([test_X], batch_size=2048, verbose=1)\n",
        "max_acc = 0\n",
        "at_thresh = 0\n",
        "for thresh in np.arange(0.1, 0.701, 0.01):\n",
        "    thresh = np.round(thresh, 2)\n",
        "    acc = metrics.f1_score(test_y, (pred_prob>thresh).astype(int))\n",
        "    if acc > max_acc:\n",
        "      max_acc = acc\n",
        "      at_thresh = thresh\n",
        "print(\" Max F1 score is {0} found at threshold {1}\".format(max_acc, at_thresh))"
      ],
      "execution_count": null,
      "outputs": [
        {
          "output_type": "stream",
          "text": [
            "261225/261225 [==============================] - 47s 181us/step\n",
            " Max F1 score is 0.654288586106768 found at threshold 0.654288586106768\n"
          ],
          "name": "stdout"
        }
      ]
    },
    {
      "cell_type": "code",
      "metadata": {
        "id": "n-8eS86Pm_ob",
        "colab_type": "code",
        "colab": {
          "base_uri": "https://localhost:8080/",
          "height": 208
        },
        "outputId": "26af0497-b122-47ed-c3a6-0740262d9a4b"
      },
      "source": [
        "!wget -P /root/input/ -c \"https://s3.amazonaws.com/dl4j-distribution/GoogleNews-vectors-negative300.bin.gz\""
      ],
      "execution_count": null,
      "outputs": [
        {
          "output_type": "stream",
          "text": [
            "--2020-07-03 17:19:13--  https://s3.amazonaws.com/dl4j-distribution/GoogleNews-vectors-negative300.bin.gz\n",
            "Resolving s3.amazonaws.com (s3.amazonaws.com)... 52.217.32.246\n",
            "Connecting to s3.amazonaws.com (s3.amazonaws.com)|52.217.32.246|:443... connected.\n",
            "HTTP request sent, awaiting response... 200 OK\n",
            "Length: 1647046227 (1.5G) [application/x-gzip]\n",
            "Saving to: ‘/root/input/GoogleNews-vectors-negative300.bin.gz’\n",
            "\n",
            "GoogleNews-vectors- 100%[===================>]   1.53G  32.6MB/s    in 49s     \n",
            "\n",
            "2020-07-03 17:20:02 (32.3 MB/s) - ‘/root/input/GoogleNews-vectors-negative300.bin.gz’ saved [1647046227/1647046227]\n",
            "\n"
          ],
          "name": "stdout"
        }
      ]
    },
    {
      "cell_type": "code",
      "metadata": {
        "id": "VzHMxacUnFYT",
        "colab_type": "code",
        "colab": {}
      },
      "source": [
        "# !pip install gensim\n",
        "from gensim.models import KeyedVectors"
      ],
      "execution_count": null,
      "outputs": []
    },
    {
      "cell_type": "code",
      "metadata": {
        "id": "XV957059nKgg",
        "colab_type": "code",
        "colab": {
          "base_uri": "https://localhost:8080/",
          "height": 72
        },
        "outputId": "871a3adb-a5b5-415b-f9e1-87e0399e1fc2"
      },
      "source": [
        "EMBEDDING_FILE = '/root/input/GoogleNews-vectors-negative300.bin.gz' # from above\n",
        "word2vec = KeyedVectors.load_word2vec_format(EMBEDDING_FILE, binary=True)"
      ],
      "execution_count": null,
      "outputs": [
        {
          "output_type": "stream",
          "text": [
            "/usr/local/lib/python3.6/dist-packages/smart_open/smart_open_lib.py:253: UserWarning: This function is deprecated, use smart_open.open instead. See the migration notes for details: https://github.com/RaRe-Technologies/smart_open/blob/master/README.rst#migrating-to-the-new-open-function\n",
            "  'See the migration notes for details: %s' % _MIGRATION_NOTES_URL\n"
          ],
          "name": "stderr"
        }
      ]
    },
    {
      "cell_type": "code",
      "metadata": {
        "id": "Dug41Yn_nNqx",
        "colab_type": "code",
        "colab": {}
      },
      "source": [
        "# lower down\n",
        "# remove punctutations\n",
        "# take ensemble of models\n",
        "# try lstm, gru\n",
        "# try conv layer after lstm / gru\n"
      ],
      "execution_count": null,
      "outputs": []
    },
    {
      "cell_type": "code",
      "metadata": {
        "id": "j1ZxvnuUg09A",
        "colab_type": "code",
        "colab": {}
      },
      "source": [
        "word_index = tokenizer.word_index\n",
        "nb_words = min(max_vocab_size, len(word_index))\n",
        "embedding_matrix = np.random.normal(0, 1, (nb_words, embed_size))\n",
        "for word, i in word_index.items():\n",
        "    if i >= max_vocab_size: continue\n",
        "    if word in word2vec.vocab:  \n",
        "      embedding_vector = word2vec[word]\n",
        "    else:\n",
        "      embedding_vector = None\n",
        "    if embedding_vector is not None: embedding_matrix[i] = embedding_vector"
      ],
      "execution_count": null,
      "outputs": []
    },
    {
      "cell_type": "code",
      "metadata": {
        "id": "9wbbLKV6hZZF",
        "colab_type": "code",
        "colab": {
          "base_uri": "https://localhost:8080/",
          "height": 416
        },
        "outputId": "482d1d50-631e-4e38-fa43-3365c5f81063"
      },
      "source": [
        "inp = Input(shape=(max_length,))\n",
        "x = Embedding(max_vocab_size, embed_size, weights=[embedding_matrix])(inp)\n",
        "x = Bidirectional(GRU(64, return_sequences=True))(x)\n",
        "x = GlobalMaxPool1D()(x)\n",
        "x = Dense(16, activation=\"relu\")(x)\n",
        "x = Dropout(0.1)(x)\n",
        "x = Dense(1, activation=\"sigmoid\")(x)\n",
        "model = Model(inputs=inp, outputs=x)\n",
        "model.compile(loss='binary_crossentropy', optimizer='adam', metrics=['accuracy'])\n",
        "print(model.summary())"
      ],
      "execution_count": null,
      "outputs": [
        {
          "output_type": "stream",
          "text": [
            "Model: \"model_2\"\n",
            "_________________________________________________________________\n",
            "Layer (type)                 Output Shape              Param #   \n",
            "=================================================================\n",
            "input_8 (InputLayer)         (None, 100)               0         \n",
            "_________________________________________________________________\n",
            "embedding_5 (Embedding)      (None, 100, 300)          15000000  \n",
            "_________________________________________________________________\n",
            "bidirectional_5 (Bidirection (None, 100, 128)          140160    \n",
            "_________________________________________________________________\n",
            "global_max_pooling1d_5 (Glob (None, 128)               0         \n",
            "_________________________________________________________________\n",
            "dense_9 (Dense)              (None, 16)                2064      \n",
            "_________________________________________________________________\n",
            "dropout_5 (Dropout)          (None, 16)                0         \n",
            "_________________________________________________________________\n",
            "dense_10 (Dense)             (None, 1)                 17        \n",
            "=================================================================\n",
            "Total params: 15,142,241\n",
            "Trainable params: 15,142,241\n",
            "Non-trainable params: 0\n",
            "_________________________________________________________________\n",
            "None\n"
          ],
          "name": "stdout"
        }
      ]
    },
    {
      "cell_type": "code",
      "metadata": {
        "id": "h3bSNI1niH7d",
        "colab_type": "code",
        "colab": {
          "base_uri": "https://localhost:8080/",
          "height": 176
        },
        "outputId": "3780130c-7da4-46f8-cb55-42a545b40b6a"
      },
      "source": [
        "model.fit(train_X, train_y, batch_size=2048, epochs=2, validation_data=(test_X, test_y))"
      ],
      "execution_count": null,
      "outputs": [
        {
          "output_type": "stream",
          "text": [
            "/usr/local/lib/python3.6/dist-packages/tensorflow/python/framework/indexed_slices.py:434: UserWarning: Converting sparse IndexedSlices to a dense Tensor of unknown shape. This may consume a large amount of memory.\n",
            "  \"Converting sparse IndexedSlices to a dense Tensor of unknown shape. \"\n"
          ],
          "name": "stderr"
        },
        {
          "output_type": "stream",
          "text": [
            "Train on 1044897 samples, validate on 261225 samples\n",
            "Epoch 1/2\n",
            "1044897/1044897 [==============================] - 425s 407us/step - loss: 0.1367 - accuracy: 0.9470 - val_loss: 0.1082 - val_accuracy: 0.9564\n",
            "Epoch 2/2\n",
            "1044897/1044897 [==============================] - 419s 401us/step - loss: 0.1032 - accuracy: 0.9584 - val_loss: 0.1048 - val_accuracy: 0.9577\n"
          ],
          "name": "stdout"
        },
        {
          "output_type": "execute_result",
          "data": {
            "text/plain": [
              "<keras.callbacks.callbacks.History at 0x7f0e6d526208>"
            ]
          },
          "metadata": {
            "tags": []
          },
          "execution_count": 66
        }
      ]
    },
    {
      "cell_type": "code",
      "metadata": {
        "id": "jhmOG2CEiTcF",
        "colab_type": "code",
        "colab": {
          "base_uri": "https://localhost:8080/",
          "height": 52
        },
        "outputId": "de4e833a-2624-4805-e0fd-e33b75363f95"
      },
      "source": [
        "pred_prob = model.predict([test_X], batch_size=2048, verbose=1)\n",
        "max_acc = 0\n",
        "at_thresh = 0\n",
        "for thresh in np.arange(0.1, 0.701, 0.01):\n",
        "    thresh = np.round(thresh, 2)\n",
        "    acc = metrics.f1_score(test_y, (pred_prob>thresh).astype(int))\n",
        "    if acc > max_acc:\n",
        "      max_acc = acc\n",
        "      at_thresh = thresh\n",
        "print(\" Max F1 score is {0} found at threshold {1}\".format(max_acc, at_thresh))"
      ],
      "execution_count": null,
      "outputs": [
        {
          "output_type": "stream",
          "text": [
            "261225/261225 [==============================] - 20s 75us/step\n",
            " Max F1 score is 0.657105092944121 found at threshold 0.657105092944121\n"
          ],
          "name": "stdout"
        }
      ]
    },
    {
      "cell_type": "code",
      "metadata": {
        "id": "vXQIshA7ivmT",
        "colab_type": "code",
        "colab": {
          "base_uri": "https://localhost:8080/",
          "height": 557
        },
        "outputId": "e8850625-9683-4db8-be96-85f11b2a7d5a"
      },
      "source": [
        "model = Sequential()\n",
        "model.add(Embedding(max_vocab_size, embed_size, input_length = max_length, weights=[embedding_matrix]))\n",
        "# Bidirectional(GRU(64, return_sequences=True))\n",
        "model.add(Bidirectional(LSTM(64, return_sequences=True, dropout_U = 0.2, dropout_W = 0.2)))  # returns a sequence of vectors of dimension 32\n",
        "model.add(Bidirectional(LSTM(64, return_sequences=True, dropout_U = 0.2, dropout_W = 0.2)))  # returns a sequence of vectors of dimension 32\n",
        "model.add(Bidirectional(LSTM(64, return_sequences=True, dropout_U = 0.2, dropout_W = 0.2)))  # return a single vector of dimension 32\n",
        "model.add(GlobalMaxPool1D())\n",
        "model.add(Dense(32, activation='relu'))\n",
        "model.add(Dropout(0.2))\n",
        "model.add(Dense(1, activation=\"sigmoid\"))\n",
        "model.compile(loss='binary_crossentropy', optimizer='adam', metrics=['accuracy'])\n",
        "model.summary()"
      ],
      "execution_count": null,
      "outputs": [
        {
          "output_type": "stream",
          "text": [
            "/usr/local/lib/python3.6/dist-packages/ipykernel_launcher.py:4: UserWarning: Update your `LSTM` call to the Keras 2 API: `LSTM(64, return_sequences=True, dropout=0.2, recurrent_dropout=0.2)`\n",
            "  after removing the cwd from sys.path.\n",
            "/usr/local/lib/python3.6/dist-packages/ipykernel_launcher.py:5: UserWarning: Update your `LSTM` call to the Keras 2 API: `LSTM(64, return_sequences=True, dropout=0.2, recurrent_dropout=0.2)`\n",
            "  \"\"\"\n",
            "/usr/local/lib/python3.6/dist-packages/ipykernel_launcher.py:6: UserWarning: Update your `LSTM` call to the Keras 2 API: `LSTM(64, return_sequences=True, dropout=0.2, recurrent_dropout=0.2)`\n",
            "  \n"
          ],
          "name": "stderr"
        },
        {
          "output_type": "stream",
          "text": [
            "Model: \"sequential_12\"\n",
            "_________________________________________________________________\n",
            "Layer (type)                 Output Shape              Param #   \n",
            "=================================================================\n",
            "embedding_6 (Embedding)      (None, 100, 300)          15000000  \n",
            "_________________________________________________________________\n",
            "bidirectional_6 (Bidirection (None, 100, 128)          186880    \n",
            "_________________________________________________________________\n",
            "bidirectional_7 (Bidirection (None, 100, 128)          98816     \n",
            "_________________________________________________________________\n",
            "bidirectional_8 (Bidirection (None, 100, 128)          98816     \n",
            "_________________________________________________________________\n",
            "global_max_pooling1d_6 (Glob (None, 128)               0         \n",
            "_________________________________________________________________\n",
            "dense_11 (Dense)             (None, 32)                4128      \n",
            "_________________________________________________________________\n",
            "dropout_6 (Dropout)          (None, 32)                0         \n",
            "_________________________________________________________________\n",
            "dense_12 (Dense)             (None, 1)                 33        \n",
            "=================================================================\n",
            "Total params: 15,388,673\n",
            "Trainable params: 15,388,673\n",
            "Non-trainable params: 0\n",
            "_________________________________________________________________\n"
          ],
          "name": "stdout"
        }
      ]
    },
    {
      "cell_type": "code",
      "metadata": {
        "id": "cFCiJvzaurGU",
        "colab_type": "code",
        "colab": {
          "base_uri": "https://localhost:8080/",
          "height": 176
        },
        "outputId": "1b5b2742-515f-4540-d938-19612ed42eec"
      },
      "source": [
        "model.fit(train_X, train_y, batch_size=2048, epochs=2, validation_data=(test_X, test_y))"
      ],
      "execution_count": null,
      "outputs": [
        {
          "output_type": "stream",
          "text": [
            "/usr/local/lib/python3.6/dist-packages/tensorflow/python/framework/indexed_slices.py:434: UserWarning: Converting sparse IndexedSlices to a dense Tensor of unknown shape. This may consume a large amount of memory.\n",
            "  \"Converting sparse IndexedSlices to a dense Tensor of unknown shape. \"\n"
          ],
          "name": "stderr"
        },
        {
          "output_type": "stream",
          "text": [
            "Train on 1044897 samples, validate on 261225 samples\n",
            "Epoch 1/2\n",
            "1044897/1044897 [==============================] - 1059s 1ms/step - loss: 0.1361 - accuracy: 0.9474 - val_loss: 0.1094 - val_accuracy: 0.9558\n",
            "Epoch 2/2\n",
            "1044897/1044897 [==============================] - 1058s 1ms/step - loss: 0.1084 - accuracy: 0.9554 - val_loss: 0.1062 - val_accuracy: 0.9568\n"
          ],
          "name": "stdout"
        },
        {
          "output_type": "execute_result",
          "data": {
            "text/plain": [
              "<keras.callbacks.callbacks.History at 0x7f0e6d526978>"
            ]
          },
          "metadata": {
            "tags": []
          },
          "execution_count": 69
        }
      ]
    },
    {
      "cell_type": "code",
      "metadata": {
        "id": "JuwpUh9krlDT",
        "colab_type": "code",
        "colab": {
          "base_uri": "https://localhost:8080/",
          "height": 52
        },
        "outputId": "db4768a6-5c31-4b90-c963-cc03a507de08"
      },
      "source": [
        "pred_prob = model.predict([test_X], batch_size=2048, verbose=1)\n",
        "max_acc = 0\n",
        "at_thresh = 0\n",
        "for thresh in np.arange(0.1, 0.701, 0.01):\n",
        "    thresh = np.round(thresh, 2)\n",
        "    acc = metrics.f1_score(test_y, (pred_prob>thresh).astype(int))\n",
        "    if acc > max_acc:\n",
        "      max_acc = acc\n",
        "      at_thresh = thresh\n",
        "print(\" Max F1 score is {0} found at threshold {1}\".format(max_acc, at_thresh))"
      ],
      "execution_count": null,
      "outputs": [
        {
          "output_type": "stream",
          "text": [
            "261225/261225 [==============================] - 48s 183us/step\n",
            " Max F1 score is 0.6519388407650718 found at threshold 0.6519388407650718\n"
          ],
          "name": "stdout"
        }
      ]
    },
    {
      "cell_type": "code",
      "metadata": {
        "id": "B0VOZ2x4v8YX",
        "colab_type": "code",
        "colab": {}
      },
      "source": [
        ""
      ],
      "execution_count": null,
      "outputs": []
    },
    {
      "cell_type": "code",
      "metadata": {
        "id": "U1ep-aSb_GF2",
        "colab_type": "code",
        "colab": {}
      },
      "source": [
        ""
      ],
      "execution_count": null,
      "outputs": []
    }
  ]
}